{
  "nbformat": 4,
  "nbformat_minor": 0,
  "metadata": {
    "colab": {
      "name": "Untitled0.ipynb",
      "provenance": [],
      "collapsed_sections": []
    },
    "kernelspec": {
      "name": "python3",
      "display_name": "Python 3"
    },
    "language_info": {
      "name": "python"
    }
  },
  "cells": [
    {
      "cell_type": "code",
      "metadata": {
        "id": "MUDQ5AVHum4S"
      },
      "source": [
        "!pip install google-cloud-core\n",
        "!pip install google-cloud-bigtable"
      ],
      "execution_count": null,
      "outputs": []
    },
    {
      "cell_type": "code",
      "metadata": {
        "id": "D1iVt28DuruK"
      },
      "source": [
        "import time\n",
        "from datetime import datetime as dt\n",
        "\n",
        "from google.cloud import bigtable\n",
        "from google.cloud.bigtable import column_family\n",
        "import pandas as pd\n"
      ],
      "execution_count": 2,
      "outputs": []
    },
    {
      "cell_type": "markdown",
      "metadata": {
        "id": "8pPga-4HQ9sU"
      },
      "source": [
        "**1. Carga de los datos**"
      ]
    },
    {
      "cell_type": "code",
      "metadata": {
        "id": "JMi5MF4XuzMQ"
      },
      "source": [
        "plant1_gen_data = pd.read_csv('/content/Plant_1_Generation_Data.csv')\n",
        "plant1_weather = pd.read_csv('/content/Plant_1_Weather_Sensor_Data.csv')\n",
        "plant2_gen_data = pd.read_csv('/content/Plant_2_Generation_Data.csv')\n",
        "plant2_weather = pd.read_csv('/content/Plant_2_Weather_Sensor_Data.csv')"
      ],
      "execution_count": 81,
      "outputs": []
    },
    {
      "cell_type": "markdown",
      "metadata": {
        "id": "iSN10jI_RFts"
      },
      "source": [
        "**2. Conexión a la instacia de BigTable**"
      ]
    },
    {
      "cell_type": "code",
      "metadata": {
        "colab": {
          "base_uri": "https://localhost:8080/"
        },
        "id": "5glm0V9SvlMx",
        "outputId": "a58190ad-1ee0-4bc9-d7b9-137564b28978"
      },
      "source": [
        "INSTANCE_ID = 'table-1'\n",
        "client = bigtable.Client.from_service_account_json('/content/unbosque-service-account.json', admin = True)\n",
        "print('Connecting to database instance')\n",
        "instances = client.list_instances()\n",
        "print(instances[0])\n",
        "for i in instances:\n",
        "  for j in i:\n",
        "    print(j.display_name)\n",
        "\n",
        "instance = client.instance(INSTANCE_ID)\n",
        "instance.exists()\n",
        "#instance.create()\n",
        "\n"
      ],
      "execution_count": 131,
      "outputs": [
        {
          "output_type": "stream",
          "name": "stdout",
          "text": [
            "Connecting to database instance\n",
            "[<google.cloud.bigtable.instance.Instance object at 0x7fceb6d2b0d0>]\n",
            "table-1\n"
          ]
        },
        {
          "output_type": "execute_result",
          "data": {
            "text/plain": [
              "True"
            ]
          },
          "metadata": {},
          "execution_count": 131
        }
      ]
    },
    {
      "cell_type": "markdown",
      "metadata": {
        "id": "VbK5jX9mRMxc"
      },
      "source": [
        "**Nombre de la tabla a crear**"
      ]
    },
    {
      "cell_type": "code",
      "metadata": {
        "colab": {
          "base_uri": "https://localhost:8080/",
          "height": 36
        },
        "id": "dVQQX58mxhNH",
        "outputId": "e35f2e25-69b1-4ca2-e1b2-634acc51b1bf"
      },
      "source": [
        "TABLE_ID = 'Workshop4_RS'\n",
        "TABLE_ID"
      ],
      "execution_count": 116,
      "outputs": [
        {
          "output_type": "execute_result",
          "data": {
            "application/vnd.google.colaboratory.intrinsic+json": {
              "type": "string"
            },
            "text/plain": [
              "'Workshop4_RS'"
            ]
          },
          "metadata": {},
          "execution_count": 116
        }
      ]
    },
    {
      "cell_type": "markdown",
      "metadata": {
        "id": "zZMv9oI3RTK4"
      },
      "source": [
        "**3. Crear la Tabla**"
      ]
    },
    {
      "cell_type": "code",
      "metadata": {
        "colab": {
          "base_uri": "https://localhost:8080/"
        },
        "id": "YGZPwfhbxffn",
        "outputId": "2eb48b9a-369a-4fea-b0c1-9e68698800b6"
      },
      "source": [
        "print('Creating the {} table'.format(TABLE_ID))\n",
        "table = instance.table(TABLE_ID)\n",
        "\n",
        "if not table.exists():\n",
        "    table.create()\n",
        "else:\n",
        "    print(\"ERROR: Table {} already exists\".format(TABLE_ID))"
      ],
      "execution_count": 133,
      "outputs": [
        {
          "output_type": "stream",
          "name": "stdout",
          "text": [
            "Creating the Workshop4_RS table\n",
            "ERROR: Table Workshop4_RS already exists\n"
          ]
        }
      ]
    },
    {
      "cell_type": "markdown",
      "metadata": {
        "id": "-v3irZWYRaj8"
      },
      "source": [
        "**4. Creación de las colecciones**"
      ]
    },
    {
      "cell_type": "code",
      "metadata": {
        "id": "PI5eiCt42lGg"
      },
      "source": [
        "print('Creating all family columns')\n",
        "\n",
        "plant_cfId = 'plant'\n",
        "plant_cf = table.column_family(plant_cfId)\n",
        "plant_cf.create()\n",
        "\n",
        "power_cfId = 'power'\n",
        "power_cf = table.column_family(power_cfId)\n",
        "power_cf.create()\n",
        "\n",
        "weather_cfId = 'weather'\n",
        "weather_cf = table.column_family(weather_cfId)\n",
        "weather_cf.create()"
      ],
      "execution_count": null,
      "outputs": []
    },
    {
      "cell_type": "code",
      "metadata": {
        "colab": {
          "base_uri": "https://localhost:8080/"
        },
        "id": "i9eI_Jsg3RNf",
        "outputId": "0960f895-39ec-4648-bcb1-c76459ab57fa"
      },
      "source": [
        "for i in plant1_gen_data['DATE_TIME'].index:\n",
        "  plant1_gen_data['DATE_TIME'][i] = dt.strptime(plant1_gen_data['DATE_TIME'][i], '%d-%m-%Y %H:%M')\n",
        "for i in plant2_gen_data['DATE_TIME'].index:\n",
        "  plant2_gen_data['DATE_TIME'][i] = dt.strptime(plant2_gen_data['DATE_TIME'][i], '%Y-%m-%d %H:%M:%S')\n",
        "for i in plant1_weather['DATE_TIME'].index:\n",
        "  plant1_weather['DATE_TIME'][i] = dt.strptime(plant1_weather['DATE_TIME'][i], '%Y-%m-%d %H:%M:%S')\n",
        "for i in plant2_weather['DATE_TIME'].index:\n",
        "  plant2_weather['DATE_TIME'][i] = dt.strptime(plant2_weather['DATE_TIME'][i], '%Y-%m-%d %H:%M:%S')"
      ],
      "execution_count": 59,
      "outputs": [
        {
          "output_type": "stream",
          "name": "stderr",
          "text": [
            "/usr/local/lib/python3.7/dist-packages/ipykernel_launcher.py:2: SettingWithCopyWarning: \n",
            "A value is trying to be set on a copy of a slice from a DataFrame\n",
            "\n",
            "See the caveats in the documentation: https://pandas.pydata.org/pandas-docs/stable/user_guide/indexing.html#returning-a-view-versus-a-copy\n",
            "  \n",
            "/usr/local/lib/python3.7/dist-packages/ipykernel_launcher.py:4: SettingWithCopyWarning: \n",
            "A value is trying to be set on a copy of a slice from a DataFrame\n",
            "\n",
            "See the caveats in the documentation: https://pandas.pydata.org/pandas-docs/stable/user_guide/indexing.html#returning-a-view-versus-a-copy\n",
            "  after removing the cwd from sys.path.\n",
            "/usr/local/lib/python3.7/dist-packages/ipykernel_launcher.py:6: SettingWithCopyWarning: \n",
            "A value is trying to be set on a copy of a slice from a DataFrame\n",
            "\n",
            "See the caveats in the documentation: https://pandas.pydata.org/pandas-docs/stable/user_guide/indexing.html#returning-a-view-versus-a-copy\n",
            "  \n",
            "/usr/local/lib/python3.7/dist-packages/ipykernel_launcher.py:8: SettingWithCopyWarning: \n",
            "A value is trying to be set on a copy of a slice from a DataFrame\n",
            "\n",
            "See the caveats in the documentation: https://pandas.pydata.org/pandas-docs/stable/user_guide/indexing.html#returning-a-view-versus-a-copy\n",
            "  \n"
          ]
        }
      ]
    },
    {
      "cell_type": "markdown",
      "metadata": {
        "id": "SFu1qbVDRiyM"
      },
      "source": [
        "**5. Definición que inserta los datos en la tabla**"
      ]
    },
    {
      "cell_type": "code",
      "metadata": {
        "id": "s7Sorjry8lVm"
      },
      "source": [
        "def insert_data(data, data2):\n",
        "  rows = []\n",
        "  row_key = str(data['PLANT_ID'])[0].encode()\n",
        "  print(row_key)\n",
        "  row = table.direct_row(row_key)\n",
        "    \n",
        "  for d in data.iterrows():\n",
        "    row.set_cell(plant_cfId, 'plant_id'.encode(),d[1]['PLANT_ID'])\n",
        "    row.set_cell(power_cfId, 'Source_id'.encode(),d[1]['SOURCE_KEY'])\n",
        "    row.set_cell(power_cfId,'DC_POWER'.encode(), str(d[1]['DC_POWER']))\n",
        "    row.set_cell(power_cfId,'AC_POWER'.encode(), str(d[1]['AC_POWER']))\n",
        "    row.set_cell(power_cfId,'DAILY_YIELD'.encode(), str(d[1]['DAILY_YIELD']))\n",
        "    row.set_cell(power_cfId,'TOTAL_YIELD'.encode(), str(d[1]['TOTAL_YIELD']))\n",
        "    row.set_cell(power_cfId,'DATE_TIME'.encode(), d[1]['DATE_TIME'])\n",
        "  \n",
        "  for c in data2.iterrows():\n",
        "    row.set_cell(weather_cfId, 'SOURCE_KEY'.encode(),c[1]['SOURCE_KEY'])\n",
        "    row.set_cell(weather_cfId,'AMBIENT_TEMPERATURE'.encode(), str(c[1]['AMBIENT_TEMPERATURE']))\n",
        "    row.set_cell(weather_cfId,'MODULE_TEMPERATURE'.encode(), str(c[1]['MODULE_TEMPERATURE']))\n",
        "    row.set_cell(weather_cfId,'IRRADIATION'.encode(), str(c[1]['IRRADIATION']))\n",
        "    row.set_cell(weather_cfId,'DATE_TIME'.encode(), c[1]['DATE_TIME'])\n",
        "\n",
        "  rows.append(row)\n",
        "\n",
        "  table.mutate_rows(rows)\n",
        "\n",
        "insert_data(plant1_gen_data, plant1_weather)\n",
        "insert_data(plant2_gen_data, plant2_weather)"
      ],
      "execution_count": null,
      "outputs": []
    },
    {
      "cell_type": "code",
      "metadata": {
        "colab": {
          "base_uri": "https://localhost:8080/"
        },
        "id": "BVmrunaIKNFt",
        "outputId": "a1c54557-daf2-4b99-f733-ebad95cd5c49"
      },
      "source": [
        "print('Deleting the {} table.'.format(TABLE_ID))\n",
        "table.delete()"
      ],
      "execution_count": 127,
      "outputs": [
        {
          "output_type": "stream",
          "name": "stdout",
          "text": [
            "Deleting the Workshop4_RS table.\n"
          ]
        }
      ]
    },
    {
      "cell_type": "code",
      "metadata": {
        "colab": {
          "base_uri": "https://localhost:8080/"
        },
        "id": "dCAdfVSQR1ex",
        "outputId": "7c624f73-5422-44dd-e78a-b35534f3a96d"
      },
      "source": [
        "print('Getting all orders')\n",
        "\n",
        "rows = table.read_rows()\n",
        "for row in rows:\n",
        "    print_row(row)"
      ],
      "execution_count": 123,
      "outputs": [
        {
          "output_type": "stream",
          "name": "stdout",
          "text": [
            "Getting all orders\n"
          ]
        }
      ]
    },
    {
      "cell_type": "markdown",
      "metadata": {
        "id": "djGKIQnERqnk"
      },
      "source": [
        "**6. Definiciones que consultan la tabla por filtros**"
      ]
    },
    {
      "cell_type": "code",
      "metadata": {
        "id": "bW2HBrqbBIFd"
      },
      "source": [
        "def leer_data_fechas(fecha, planta):\n",
        "  row_set = RowSet()\n",
        "  row_set.add_row_key(planta.encode())\n",
        "\n",
        "  rows = table.read_rows(row_set=row_set)\n",
        "  for row in rows:\n",
        "    if(row['DATE_TIME']>= fecha ):\n",
        "        print_row(row)\n",
        "\n",
        "def leer_data_fechas_planta(fecha, planta, identificador):\n",
        "  row_set = RowSet()\n",
        "  row_set.add_row_key(planta.encode())\n",
        "\n",
        "  rows = table.read_rows(row_set=row_set)\n",
        "  for row in rows:\n",
        "    if(row['DATE_TIME']>= fecha and row['SOURCE_KEY'] == identificador):\n",
        "        print_row(row)\n",
        "\n",
        "leer_data_fechas_planta('','4135001','adLQvlD726eNBSB')"
      ],
      "execution_count": null,
      "outputs": []
    }
  ]
}